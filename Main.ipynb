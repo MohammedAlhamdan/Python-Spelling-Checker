{
 "cells": [
  {
   "cell_type": "code",
   "execution_count": 1,
   "metadata": {},
   "outputs": [
    {
     "name": "stdout",
     "output_type": "stream",
     "text": [
      "1\n"
     ]
    }
   ],
   "source": [
    "def editDistance(str1, str2):\n",
    "    # Get the lengths of the input strings\n",
    "    m = len(str1)\n",
    "    n = len(str2)\n",
    "     \n",
    "    # Initialize a list to store the current row\n",
    "    current = [0] * (n + 1)\n",
    "     \n",
    "    # Initialize the first row with values from 0 to n\n",
    "    for j in range(n + 1):\n",
    "        current[j] = j\n",
    "     \n",
    "    # Initialize a variable to store the previous value\n",
    "    previous = 0\n",
    "     \n",
    "    # Loop through the rows of the dynamic programming matrix\n",
    "    for i in range(1, m + 1):\n",
    "        # Store the current value at the beginning of the row\n",
    "        previous = current[0]\n",
    "        current[0] = i\n",
    "         \n",
    "        # Loop through the columns of the dynamic programming matrix\n",
    "        for j in range(1, n + 1):\n",
    "            # Store the current value in a temporary variable\n",
    "            temp = current[j]\n",
    "             \n",
    "            # Check if the characters at the current positions in str1 and str2 are the same\n",
    "            if str1[i - 1] == str2[j - 1]:\n",
    "                current[j] = previous\n",
    "            else:\n",
    "                # Update the current cell with the minimum of the three adjacent cells\n",
    "                current[j] = 1 + min(previous, current[j - 1], current[j])\n",
    "             \n",
    "            # Update the previous variable with the temporary value\n",
    "            previous = temp\n",
    "     \n",
    "    # The value in the last cell represents the minimum number of operations\n",
    "    return current[n]\n",
    " \n",
    "\n",
    "str1 = \"night\"\n",
    "str2 = \"nigt\"   \n",
    "ans = editDistance(str1, str2)\n",
    "print(ans)"
   ]
  },
  {
   "cell_type": "code",
   "execution_count": 12,
   "metadata": {},
   "outputs": [
    {
     "name": "stdout",
     "output_type": "stream",
     "text": [
      "Corrected words for 'booc' are: ['book', 'boot', 'room', 'look', 'cook']\n"
     ]
    }
   ],
   "source": [
    "import re\n",
    "from collections import Counter\n",
    "\n",
    "def create_vocabulary_dict(corpus_file):\n",
    "    \"\"\"Create a dictionary of English vocabulary from the given corpus file.\"\"\"\n",
    "    vocabulary_dict = Counter()\n",
    "    with open(corpus_file, 'r', encoding='utf-8') as file:\n",
    "        for line in file:\n",
    "            words = re.findall(r'\\b\\w+\\b', line.lower())\n",
    "            vocabulary_dict.update(words)\n",
    "    return vocabulary_dict\n",
    "\n",
    "def spelling_checker(misspelled_word, vocabulary_dict):\n",
    "    \"\"\"Check spelling of a word and return a list of five most likely corrected words.\"\"\"\n",
    "    candidates = []\n",
    "    for word in vocabulary_dict:\n",
    "        if len(word) == len(misspelled_word):\n",
    "            distance = sum(1 for a, b in zip(word, misspelled_word) if a != b)\n",
    "            candidates.append((word, distance))\n",
    "    candidates.sort(key=lambda x: x[1])\n",
    "    corrected_words = [candidate[0] for candidate in candidates[:5]]\n",
    "    return corrected_words\n",
    "\n",
    "# Example usage:\n",
    "corpus_file = 'books\\Anna_Karenina_by_Leo_Tolstoy.rtf'  # Replace the path to your corpus file\n",
    "vocabulary_dict = create_vocabulary_dict(corpus_file)\n",
    "\n",
    "#misspelled_word = 'teh'\n",
    "misspelled_word = input(\"Enter a word: \")\n",
    "corrected_words = spelling_checker(misspelled_word, vocabulary_dict)\n",
    "print(\"Corrected words for '{}' are:\".format(misspelled_word), corrected_words)\n"
   ]
  }
 ],
 "metadata": {
  "kernelspec": {
   "display_name": "Python 3",
   "language": "python",
   "name": "python3"
  },
  "language_info": {
   "codemirror_mode": {
    "name": "ipython",
    "version": 3
   },
   "file_extension": ".py",
   "mimetype": "text/x-python",
   "name": "python",
   "nbconvert_exporter": "python",
   "pygments_lexer": "ipython3",
   "version": "3.11.8"
  }
 },
 "nbformat": 4,
 "nbformat_minor": 2
}
